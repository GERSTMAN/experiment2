{
  "nbformat": 4,
  "nbformat_minor": 0,
  "metadata": {
    "colab": {
      "provenance": [],
      "toc_visible": true,
      "authorship_tag": "ABX9TyOiWoaSRONTruM+Mq8IxQiF",
      "include_colab_link": true
    },
    "kernelspec": {
      "name": "python3",
      "display_name": "Python 3"
    },
    "language_info": {
      "name": "python"
    }
  },
  "cells": [
    {
      "cell_type": "markdown",
      "metadata": {
        "id": "view-in-github",
        "colab_type": "text"
      },
      "source": [
        "<a href=\"https://colab.research.google.com/github/GERSTMAN/experiment2/blob/main/azure.ipynb\" target=\"_parent\"><img src=\"https://colab.research.google.com/assets/colab-badge.svg\" alt=\"Open In Colab\"/></a>"
      ]
    },
    {
      "cell_type": "markdown",
      "source": [
        "המטרה של העבודה היתה לבחון את ההשערה שחוטי תכלת בציצית נקרעים יותר מהר מחוטי לבן.\n",
        "לשם כך פירקתי ציצית בלויה בו היה מספר שווה של חוטי תכלת ושל חוטי לבן (כשיטת התוספות הידועה) ואחר כך מדדתי את החוטים.\n",
        "אמנם, לא מדדתי כל חוט וחוט כשהציצית היתה חדשה, אך האורכים סטנדרטים וניתן לאמת זאת בעת רכישת סט חדש. 120 ס\"מ לחוט דק רגיל ו-150 ס\"מ לכל שמש (בסט שמיועד לקשירת 13 חוליות לפי שיטת הגר\"א).\n",
        "בחנתי את ההשערה במבחן T (7 דרגות חופש), וכן בחנתי השערות אלטרנטיביות לפיהן מיקום החוט בבגד הוא שמשפיע על הסיכוי של חוט להיקרע.\n",
        "בסוף, שילבתי עזר גרפי להצגת אורכי החוטים, הממחיש את ההפרש בין גורלם של חוטי התכלת והלבן."
      ],
      "metadata": {
        "id": "sVWXSYOcz_wm"
      }
    },
    {
      "cell_type": "code",
      "execution_count": null,
      "metadata": {
        "id": "Ta2u6-mceIoC"
      },
      "outputs": [],
      "source": [
        "import pandas as pd\n",
        "import numpy as np\n",
        "import datetime\n",
        "import matplotlib.pyplot as plt"
      ]
    },
    {
      "cell_type": "code",
      "source": [
        "#import statsmodels.api as sm\n",
        "#import statsmodels.formula.api as smf"
      ],
      "metadata": {
        "id": "Rldki-5iC905"
      },
      "execution_count": null,
      "outputs": []
    },
    {
      "cell_type": "code",
      "source": [
        "from scipy.stats import ttest_rel"
      ],
      "metadata": {
        "id": "jbH1hXZ2Fk8P"
      },
      "execution_count": null,
      "outputs": []
    },
    {
      "cell_type": "code",
      "source": [
        "azure = [['white',150,142,'front','left','yed_21'],\n",
        "['white',120,103,'front','left','yed_21'],\n",
        "['blue',120,102,'front','left','yed_21'],\n",
        "['blue',150,89,'front','left','yed_21'],\n",
        "['white',120,106,'front','right','yed_21'],\n",
        "['blue',150,135,'front','right','yed_21'],\n",
        "['blue',120,72,'front','right','yed_21'],\n",
        "['white',150,134,'front','right','yed_21'],\n",
        "['white',150,137,'back','left','yed_21'],\n",
        "['white',120,109,'back','left','yed_21'],\n",
        "['blue',150,131,'back','left','yed_21'],\n",
        "['blue',120,88,'back','left','yed_21'],\n",
        "['blue',150,98,'back','right','yed_21'],\n",
        "['white',150,132,'back','right','yed_21'],\n",
        "['white',120,102,'back','right','yed_21'],\n",
        "['blue',120,84,'back','right','yed_21']]"
      ],
      "metadata": {
        "id": "ouz2uWCMe2SJ"
      },
      "execution_count": null,
      "outputs": []
    },
    {
      "cell_type": "code",
      "source": [
        "df = pd.DataFrame(azure, columns=['color', 'orig_ln','pres_ln','f/b','r/l','cloth'])"
      ],
      "metadata": {
        "id": "eOjolF3aiomA"
      },
      "execution_count": null,
      "outputs": []
    },
    {
      "cell_type": "code",
      "source": [
        "df"
      ],
      "metadata": {
        "colab": {
          "base_uri": "https://localhost:8080/",
          "height": 551
        },
        "id": "CQzGbNCfjCrx",
        "outputId": "469f6514-9298-4b43-ce66-3507d4e9ac7b"
      },
      "execution_count": null,
      "outputs": [
        {
          "output_type": "execute_result",
          "data": {
            "text/plain": [
              "    color  orig_ln  pres_ln    f/b    r/l   cloth\n",
              "0   white      150      142  front   left  yed_21\n",
              "1   white      120      103  front   left  yed_21\n",
              "2    blue      120      102  front   left  yed_21\n",
              "3    blue      150       89  front   left  yed_21\n",
              "4   white      120      106  front  right  yed_21\n",
              "5    blue      150      135  front  right  yed_21\n",
              "6    blue      120       72  front  right  yed_21\n",
              "7   white      150      134  front  right  yed_21\n",
              "8   white      150      137   back   left  yed_21\n",
              "9   white      120      109   back   left  yed_21\n",
              "10   blue      150      131   back   left  yed_21\n",
              "11   blue      120       88   back   left  yed_21\n",
              "12   blue      150       98   back  right  yed_21\n",
              "13  white      150      132   back  right  yed_21\n",
              "14  white      120      102   back  right  yed_21\n",
              "15   blue      120       84   back  right  yed_21"
            ],
            "text/html": [
              "\n",
              "  <div id=\"df-c12780fe-b4b1-4831-98cb-2ba90171460f\">\n",
              "    <div class=\"colab-df-container\">\n",
              "      <div>\n",
              "<style scoped>\n",
              "    .dataframe tbody tr th:only-of-type {\n",
              "        vertical-align: middle;\n",
              "    }\n",
              "\n",
              "    .dataframe tbody tr th {\n",
              "        vertical-align: top;\n",
              "    }\n",
              "\n",
              "    .dataframe thead th {\n",
              "        text-align: right;\n",
              "    }\n",
              "</style>\n",
              "<table border=\"1\" class=\"dataframe\">\n",
              "  <thead>\n",
              "    <tr style=\"text-align: right;\">\n",
              "      <th></th>\n",
              "      <th>color</th>\n",
              "      <th>orig_ln</th>\n",
              "      <th>pres_ln</th>\n",
              "      <th>f/b</th>\n",
              "      <th>r/l</th>\n",
              "      <th>cloth</th>\n",
              "    </tr>\n",
              "  </thead>\n",
              "  <tbody>\n",
              "    <tr>\n",
              "      <th>0</th>\n",
              "      <td>white</td>\n",
              "      <td>150</td>\n",
              "      <td>142</td>\n",
              "      <td>front</td>\n",
              "      <td>left</td>\n",
              "      <td>yed_21</td>\n",
              "    </tr>\n",
              "    <tr>\n",
              "      <th>1</th>\n",
              "      <td>white</td>\n",
              "      <td>120</td>\n",
              "      <td>103</td>\n",
              "      <td>front</td>\n",
              "      <td>left</td>\n",
              "      <td>yed_21</td>\n",
              "    </tr>\n",
              "    <tr>\n",
              "      <th>2</th>\n",
              "      <td>blue</td>\n",
              "      <td>120</td>\n",
              "      <td>102</td>\n",
              "      <td>front</td>\n",
              "      <td>left</td>\n",
              "      <td>yed_21</td>\n",
              "    </tr>\n",
              "    <tr>\n",
              "      <th>3</th>\n",
              "      <td>blue</td>\n",
              "      <td>150</td>\n",
              "      <td>89</td>\n",
              "      <td>front</td>\n",
              "      <td>left</td>\n",
              "      <td>yed_21</td>\n",
              "    </tr>\n",
              "    <tr>\n",
              "      <th>4</th>\n",
              "      <td>white</td>\n",
              "      <td>120</td>\n",
              "      <td>106</td>\n",
              "      <td>front</td>\n",
              "      <td>right</td>\n",
              "      <td>yed_21</td>\n",
              "    </tr>\n",
              "    <tr>\n",
              "      <th>5</th>\n",
              "      <td>blue</td>\n",
              "      <td>150</td>\n",
              "      <td>135</td>\n",
              "      <td>front</td>\n",
              "      <td>right</td>\n",
              "      <td>yed_21</td>\n",
              "    </tr>\n",
              "    <tr>\n",
              "      <th>6</th>\n",
              "      <td>blue</td>\n",
              "      <td>120</td>\n",
              "      <td>72</td>\n",
              "      <td>front</td>\n",
              "      <td>right</td>\n",
              "      <td>yed_21</td>\n",
              "    </tr>\n",
              "    <tr>\n",
              "      <th>7</th>\n",
              "      <td>white</td>\n",
              "      <td>150</td>\n",
              "      <td>134</td>\n",
              "      <td>front</td>\n",
              "      <td>right</td>\n",
              "      <td>yed_21</td>\n",
              "    </tr>\n",
              "    <tr>\n",
              "      <th>8</th>\n",
              "      <td>white</td>\n",
              "      <td>150</td>\n",
              "      <td>137</td>\n",
              "      <td>back</td>\n",
              "      <td>left</td>\n",
              "      <td>yed_21</td>\n",
              "    </tr>\n",
              "    <tr>\n",
              "      <th>9</th>\n",
              "      <td>white</td>\n",
              "      <td>120</td>\n",
              "      <td>109</td>\n",
              "      <td>back</td>\n",
              "      <td>left</td>\n",
              "      <td>yed_21</td>\n",
              "    </tr>\n",
              "    <tr>\n",
              "      <th>10</th>\n",
              "      <td>blue</td>\n",
              "      <td>150</td>\n",
              "      <td>131</td>\n",
              "      <td>back</td>\n",
              "      <td>left</td>\n",
              "      <td>yed_21</td>\n",
              "    </tr>\n",
              "    <tr>\n",
              "      <th>11</th>\n",
              "      <td>blue</td>\n",
              "      <td>120</td>\n",
              "      <td>88</td>\n",
              "      <td>back</td>\n",
              "      <td>left</td>\n",
              "      <td>yed_21</td>\n",
              "    </tr>\n",
              "    <tr>\n",
              "      <th>12</th>\n",
              "      <td>blue</td>\n",
              "      <td>150</td>\n",
              "      <td>98</td>\n",
              "      <td>back</td>\n",
              "      <td>right</td>\n",
              "      <td>yed_21</td>\n",
              "    </tr>\n",
              "    <tr>\n",
              "      <th>13</th>\n",
              "      <td>white</td>\n",
              "      <td>150</td>\n",
              "      <td>132</td>\n",
              "      <td>back</td>\n",
              "      <td>right</td>\n",
              "      <td>yed_21</td>\n",
              "    </tr>\n",
              "    <tr>\n",
              "      <th>14</th>\n",
              "      <td>white</td>\n",
              "      <td>120</td>\n",
              "      <td>102</td>\n",
              "      <td>back</td>\n",
              "      <td>right</td>\n",
              "      <td>yed_21</td>\n",
              "    </tr>\n",
              "    <tr>\n",
              "      <th>15</th>\n",
              "      <td>blue</td>\n",
              "      <td>120</td>\n",
              "      <td>84</td>\n",
              "      <td>back</td>\n",
              "      <td>right</td>\n",
              "      <td>yed_21</td>\n",
              "    </tr>\n",
              "  </tbody>\n",
              "</table>\n",
              "</div>\n",
              "      <button class=\"colab-df-convert\" onclick=\"convertToInteractive('df-c12780fe-b4b1-4831-98cb-2ba90171460f')\"\n",
              "              title=\"Convert this dataframe to an interactive table.\"\n",
              "              style=\"display:none;\">\n",
              "        \n",
              "  <svg xmlns=\"http://www.w3.org/2000/svg\" height=\"24px\"viewBox=\"0 0 24 24\"\n",
              "       width=\"24px\">\n",
              "    <path d=\"M0 0h24v24H0V0z\" fill=\"none\"/>\n",
              "    <path d=\"M18.56 5.44l.94 2.06.94-2.06 2.06-.94-2.06-.94-.94-2.06-.94 2.06-2.06.94zm-11 1L8.5 8.5l.94-2.06 2.06-.94-2.06-.94L8.5 2.5l-.94 2.06-2.06.94zm10 10l.94 2.06.94-2.06 2.06-.94-2.06-.94-.94-2.06-.94 2.06-2.06.94z\"/><path d=\"M17.41 7.96l-1.37-1.37c-.4-.4-.92-.59-1.43-.59-.52 0-1.04.2-1.43.59L10.3 9.45l-7.72 7.72c-.78.78-.78 2.05 0 2.83L4 21.41c.39.39.9.59 1.41.59.51 0 1.02-.2 1.41-.59l7.78-7.78 2.81-2.81c.8-.78.8-2.07 0-2.86zM5.41 20L4 18.59l7.72-7.72 1.47 1.35L5.41 20z\"/>\n",
              "  </svg>\n",
              "      </button>\n",
              "      \n",
              "  <style>\n",
              "    .colab-df-container {\n",
              "      display:flex;\n",
              "      flex-wrap:wrap;\n",
              "      gap: 12px;\n",
              "    }\n",
              "\n",
              "    .colab-df-convert {\n",
              "      background-color: #E8F0FE;\n",
              "      border: none;\n",
              "      border-radius: 50%;\n",
              "      cursor: pointer;\n",
              "      display: none;\n",
              "      fill: #1967D2;\n",
              "      height: 32px;\n",
              "      padding: 0 0 0 0;\n",
              "      width: 32px;\n",
              "    }\n",
              "\n",
              "    .colab-df-convert:hover {\n",
              "      background-color: #E2EBFA;\n",
              "      box-shadow: 0px 1px 2px rgba(60, 64, 67, 0.3), 0px 1px 3px 1px rgba(60, 64, 67, 0.15);\n",
              "      fill: #174EA6;\n",
              "    }\n",
              "\n",
              "    [theme=dark] .colab-df-convert {\n",
              "      background-color: #3B4455;\n",
              "      fill: #D2E3FC;\n",
              "    }\n",
              "\n",
              "    [theme=dark] .colab-df-convert:hover {\n",
              "      background-color: #434B5C;\n",
              "      box-shadow: 0px 1px 3px 1px rgba(0, 0, 0, 0.15);\n",
              "      filter: drop-shadow(0px 1px 2px rgba(0, 0, 0, 0.3));\n",
              "      fill: #FFFFFF;\n",
              "    }\n",
              "  </style>\n",
              "\n",
              "      <script>\n",
              "        const buttonEl =\n",
              "          document.querySelector('#df-c12780fe-b4b1-4831-98cb-2ba90171460f button.colab-df-convert');\n",
              "        buttonEl.style.display =\n",
              "          google.colab.kernel.accessAllowed ? 'block' : 'none';\n",
              "\n",
              "        async function convertToInteractive(key) {\n",
              "          const element = document.querySelector('#df-c12780fe-b4b1-4831-98cb-2ba90171460f');\n",
              "          const dataTable =\n",
              "            await google.colab.kernel.invokeFunction('convertToInteractive',\n",
              "                                                     [key], {});\n",
              "          if (!dataTable) return;\n",
              "\n",
              "          const docLinkHtml = 'Like what you see? Visit the ' +\n",
              "            '<a target=\"_blank\" href=https://colab.research.google.com/notebooks/data_table.ipynb>data table notebook</a>'\n",
              "            + ' to learn more about interactive tables.';\n",
              "          element.innerHTML = '';\n",
              "          dataTable['output_type'] = 'display_data';\n",
              "          await google.colab.output.renderOutput(dataTable, element);\n",
              "          const docLink = document.createElement('div');\n",
              "          docLink.innerHTML = docLinkHtml;\n",
              "          element.appendChild(docLink);\n",
              "        }\n",
              "      </script>\n",
              "    </div>\n",
              "  </div>\n",
              "  "
            ]
          },
          "metadata": {},
          "execution_count": 6
        }
      ]
    },
    {
      "cell_type": "code",
      "source": [
        "df.info()"
      ],
      "metadata": {
        "colab": {
          "base_uri": "https://localhost:8080/"
        },
        "id": "mdE92gJsxG-V",
        "outputId": "2c852b17-76a2-4848-f706-9e746f32f120"
      },
      "execution_count": null,
      "outputs": [
        {
          "output_type": "stream",
          "name": "stdout",
          "text": [
            "<class 'pandas.core.frame.DataFrame'>\n",
            "RangeIndex: 16 entries, 0 to 15\n",
            "Data columns (total 6 columns):\n",
            " #   Column   Non-Null Count  Dtype \n",
            "---  ------   --------------  ----- \n",
            " 0   color    16 non-null     object\n",
            " 1   orig_ln  16 non-null     int64 \n",
            " 2   pres_ln  16 non-null     int64 \n",
            " 3   f/b      16 non-null     object\n",
            " 4   r/l      16 non-null     object\n",
            " 5   cloth    16 non-null     object\n",
            "dtypes: int64(2), object(4)\n",
            "memory usage: 896.0+ bytes\n"
          ]
        }
      ]
    },
    {
      "cell_type": "code",
      "source": [
        "df.insert(3, \"difference\",df['orig_ln']-df['pres_ln'], True)"
      ],
      "metadata": {
        "id": "uMQS8UPLjHE4"
      },
      "execution_count": null,
      "outputs": []
    },
    {
      "cell_type": "code",
      "source": [
        "df"
      ],
      "metadata": {
        "colab": {
          "base_uri": "https://localhost:8080/",
          "height": 551
        },
        "id": "8MPvyGQp01Ds",
        "outputId": "52d79f9a-6ce8-4eb6-ff4e-256fefaafe9e"
      },
      "execution_count": null,
      "outputs": [
        {
          "output_type": "execute_result",
          "data": {
            "text/plain": [
              "    color  orig_ln  pres_ln  difference    f/b    r/l   cloth\n",
              "0   white      150      142           8  front   left  yed_21\n",
              "1   white      120      103          17  front   left  yed_21\n",
              "2    blue      120      102          18  front   left  yed_21\n",
              "3    blue      150       89          61  front   left  yed_21\n",
              "4   white      120      106          14  front  right  yed_21\n",
              "5    blue      150      135          15  front  right  yed_21\n",
              "6    blue      120       72          48  front  right  yed_21\n",
              "7   white      150      134          16  front  right  yed_21\n",
              "8   white      150      137          13   back   left  yed_21\n",
              "9   white      120      109          11   back   left  yed_21\n",
              "10   blue      150      131          19   back   left  yed_21\n",
              "11   blue      120       88          32   back   left  yed_21\n",
              "12   blue      150       98          52   back  right  yed_21\n",
              "13  white      150      132          18   back  right  yed_21\n",
              "14  white      120      102          18   back  right  yed_21\n",
              "15   blue      120       84          36   back  right  yed_21"
            ],
            "text/html": [
              "\n",
              "  <div id=\"df-ce5b1f80-a7c7-4242-a0ad-70bdf7044ba0\">\n",
              "    <div class=\"colab-df-container\">\n",
              "      <div>\n",
              "<style scoped>\n",
              "    .dataframe tbody tr th:only-of-type {\n",
              "        vertical-align: middle;\n",
              "    }\n",
              "\n",
              "    .dataframe tbody tr th {\n",
              "        vertical-align: top;\n",
              "    }\n",
              "\n",
              "    .dataframe thead th {\n",
              "        text-align: right;\n",
              "    }\n",
              "</style>\n",
              "<table border=\"1\" class=\"dataframe\">\n",
              "  <thead>\n",
              "    <tr style=\"text-align: right;\">\n",
              "      <th></th>\n",
              "      <th>color</th>\n",
              "      <th>orig_ln</th>\n",
              "      <th>pres_ln</th>\n",
              "      <th>difference</th>\n",
              "      <th>f/b</th>\n",
              "      <th>r/l</th>\n",
              "      <th>cloth</th>\n",
              "    </tr>\n",
              "  </thead>\n",
              "  <tbody>\n",
              "    <tr>\n",
              "      <th>0</th>\n",
              "      <td>white</td>\n",
              "      <td>150</td>\n",
              "      <td>142</td>\n",
              "      <td>8</td>\n",
              "      <td>front</td>\n",
              "      <td>left</td>\n",
              "      <td>yed_21</td>\n",
              "    </tr>\n",
              "    <tr>\n",
              "      <th>1</th>\n",
              "      <td>white</td>\n",
              "      <td>120</td>\n",
              "      <td>103</td>\n",
              "      <td>17</td>\n",
              "      <td>front</td>\n",
              "      <td>left</td>\n",
              "      <td>yed_21</td>\n",
              "    </tr>\n",
              "    <tr>\n",
              "      <th>2</th>\n",
              "      <td>blue</td>\n",
              "      <td>120</td>\n",
              "      <td>102</td>\n",
              "      <td>18</td>\n",
              "      <td>front</td>\n",
              "      <td>left</td>\n",
              "      <td>yed_21</td>\n",
              "    </tr>\n",
              "    <tr>\n",
              "      <th>3</th>\n",
              "      <td>blue</td>\n",
              "      <td>150</td>\n",
              "      <td>89</td>\n",
              "      <td>61</td>\n",
              "      <td>front</td>\n",
              "      <td>left</td>\n",
              "      <td>yed_21</td>\n",
              "    </tr>\n",
              "    <tr>\n",
              "      <th>4</th>\n",
              "      <td>white</td>\n",
              "      <td>120</td>\n",
              "      <td>106</td>\n",
              "      <td>14</td>\n",
              "      <td>front</td>\n",
              "      <td>right</td>\n",
              "      <td>yed_21</td>\n",
              "    </tr>\n",
              "    <tr>\n",
              "      <th>5</th>\n",
              "      <td>blue</td>\n",
              "      <td>150</td>\n",
              "      <td>135</td>\n",
              "      <td>15</td>\n",
              "      <td>front</td>\n",
              "      <td>right</td>\n",
              "      <td>yed_21</td>\n",
              "    </tr>\n",
              "    <tr>\n",
              "      <th>6</th>\n",
              "      <td>blue</td>\n",
              "      <td>120</td>\n",
              "      <td>72</td>\n",
              "      <td>48</td>\n",
              "      <td>front</td>\n",
              "      <td>right</td>\n",
              "      <td>yed_21</td>\n",
              "    </tr>\n",
              "    <tr>\n",
              "      <th>7</th>\n",
              "      <td>white</td>\n",
              "      <td>150</td>\n",
              "      <td>134</td>\n",
              "      <td>16</td>\n",
              "      <td>front</td>\n",
              "      <td>right</td>\n",
              "      <td>yed_21</td>\n",
              "    </tr>\n",
              "    <tr>\n",
              "      <th>8</th>\n",
              "      <td>white</td>\n",
              "      <td>150</td>\n",
              "      <td>137</td>\n",
              "      <td>13</td>\n",
              "      <td>back</td>\n",
              "      <td>left</td>\n",
              "      <td>yed_21</td>\n",
              "    </tr>\n",
              "    <tr>\n",
              "      <th>9</th>\n",
              "      <td>white</td>\n",
              "      <td>120</td>\n",
              "      <td>109</td>\n",
              "      <td>11</td>\n",
              "      <td>back</td>\n",
              "      <td>left</td>\n",
              "      <td>yed_21</td>\n",
              "    </tr>\n",
              "    <tr>\n",
              "      <th>10</th>\n",
              "      <td>blue</td>\n",
              "      <td>150</td>\n",
              "      <td>131</td>\n",
              "      <td>19</td>\n",
              "      <td>back</td>\n",
              "      <td>left</td>\n",
              "      <td>yed_21</td>\n",
              "    </tr>\n",
              "    <tr>\n",
              "      <th>11</th>\n",
              "      <td>blue</td>\n",
              "      <td>120</td>\n",
              "      <td>88</td>\n",
              "      <td>32</td>\n",
              "      <td>back</td>\n",
              "      <td>left</td>\n",
              "      <td>yed_21</td>\n",
              "    </tr>\n",
              "    <tr>\n",
              "      <th>12</th>\n",
              "      <td>blue</td>\n",
              "      <td>150</td>\n",
              "      <td>98</td>\n",
              "      <td>52</td>\n",
              "      <td>back</td>\n",
              "      <td>right</td>\n",
              "      <td>yed_21</td>\n",
              "    </tr>\n",
              "    <tr>\n",
              "      <th>13</th>\n",
              "      <td>white</td>\n",
              "      <td>150</td>\n",
              "      <td>132</td>\n",
              "      <td>18</td>\n",
              "      <td>back</td>\n",
              "      <td>right</td>\n",
              "      <td>yed_21</td>\n",
              "    </tr>\n",
              "    <tr>\n",
              "      <th>14</th>\n",
              "      <td>white</td>\n",
              "      <td>120</td>\n",
              "      <td>102</td>\n",
              "      <td>18</td>\n",
              "      <td>back</td>\n",
              "      <td>right</td>\n",
              "      <td>yed_21</td>\n",
              "    </tr>\n",
              "    <tr>\n",
              "      <th>15</th>\n",
              "      <td>blue</td>\n",
              "      <td>120</td>\n",
              "      <td>84</td>\n",
              "      <td>36</td>\n",
              "      <td>back</td>\n",
              "      <td>right</td>\n",
              "      <td>yed_21</td>\n",
              "    </tr>\n",
              "  </tbody>\n",
              "</table>\n",
              "</div>\n",
              "      <button class=\"colab-df-convert\" onclick=\"convertToInteractive('df-ce5b1f80-a7c7-4242-a0ad-70bdf7044ba0')\"\n",
              "              title=\"Convert this dataframe to an interactive table.\"\n",
              "              style=\"display:none;\">\n",
              "        \n",
              "  <svg xmlns=\"http://www.w3.org/2000/svg\" height=\"24px\"viewBox=\"0 0 24 24\"\n",
              "       width=\"24px\">\n",
              "    <path d=\"M0 0h24v24H0V0z\" fill=\"none\"/>\n",
              "    <path d=\"M18.56 5.44l.94 2.06.94-2.06 2.06-.94-2.06-.94-.94-2.06-.94 2.06-2.06.94zm-11 1L8.5 8.5l.94-2.06 2.06-.94-2.06-.94L8.5 2.5l-.94 2.06-2.06.94zm10 10l.94 2.06.94-2.06 2.06-.94-2.06-.94-.94-2.06-.94 2.06-2.06.94z\"/><path d=\"M17.41 7.96l-1.37-1.37c-.4-.4-.92-.59-1.43-.59-.52 0-1.04.2-1.43.59L10.3 9.45l-7.72 7.72c-.78.78-.78 2.05 0 2.83L4 21.41c.39.39.9.59 1.41.59.51 0 1.02-.2 1.41-.59l7.78-7.78 2.81-2.81c.8-.78.8-2.07 0-2.86zM5.41 20L4 18.59l7.72-7.72 1.47 1.35L5.41 20z\"/>\n",
              "  </svg>\n",
              "      </button>\n",
              "      \n",
              "  <style>\n",
              "    .colab-df-container {\n",
              "      display:flex;\n",
              "      flex-wrap:wrap;\n",
              "      gap: 12px;\n",
              "    }\n",
              "\n",
              "    .colab-df-convert {\n",
              "      background-color: #E8F0FE;\n",
              "      border: none;\n",
              "      border-radius: 50%;\n",
              "      cursor: pointer;\n",
              "      display: none;\n",
              "      fill: #1967D2;\n",
              "      height: 32px;\n",
              "      padding: 0 0 0 0;\n",
              "      width: 32px;\n",
              "    }\n",
              "\n",
              "    .colab-df-convert:hover {\n",
              "      background-color: #E2EBFA;\n",
              "      box-shadow: 0px 1px 2px rgba(60, 64, 67, 0.3), 0px 1px 3px 1px rgba(60, 64, 67, 0.15);\n",
              "      fill: #174EA6;\n",
              "    }\n",
              "\n",
              "    [theme=dark] .colab-df-convert {\n",
              "      background-color: #3B4455;\n",
              "      fill: #D2E3FC;\n",
              "    }\n",
              "\n",
              "    [theme=dark] .colab-df-convert:hover {\n",
              "      background-color: #434B5C;\n",
              "      box-shadow: 0px 1px 3px 1px rgba(0, 0, 0, 0.15);\n",
              "      filter: drop-shadow(0px 1px 2px rgba(0, 0, 0, 0.3));\n",
              "      fill: #FFFFFF;\n",
              "    }\n",
              "  </style>\n",
              "\n",
              "      <script>\n",
              "        const buttonEl =\n",
              "          document.querySelector('#df-ce5b1f80-a7c7-4242-a0ad-70bdf7044ba0 button.colab-df-convert');\n",
              "        buttonEl.style.display =\n",
              "          google.colab.kernel.accessAllowed ? 'block' : 'none';\n",
              "\n",
              "        async function convertToInteractive(key) {\n",
              "          const element = document.querySelector('#df-ce5b1f80-a7c7-4242-a0ad-70bdf7044ba0');\n",
              "          const dataTable =\n",
              "            await google.colab.kernel.invokeFunction('convertToInteractive',\n",
              "                                                     [key], {});\n",
              "          if (!dataTable) return;\n",
              "\n",
              "          const docLinkHtml = 'Like what you see? Visit the ' +\n",
              "            '<a target=\"_blank\" href=https://colab.research.google.com/notebooks/data_table.ipynb>data table notebook</a>'\n",
              "            + ' to learn more about interactive tables.';\n",
              "          element.innerHTML = '';\n",
              "          dataTable['output_type'] = 'display_data';\n",
              "          await google.colab.output.renderOutput(dataTable, element);\n",
              "          const docLink = document.createElement('div');\n",
              "          docLink.innerHTML = docLinkHtml;\n",
              "          element.appendChild(docLink);\n",
              "        }\n",
              "      </script>\n",
              "    </div>\n",
              "  </div>\n",
              "  "
            ]
          },
          "metadata": {},
          "execution_count": 9
        }
      ]
    },
    {
      "cell_type": "code",
      "source": [
        "p_table = pd.pivot_table(df, index = ['f/b', 'r/l','orig_ln','color'],values=['difference'])"
      ],
      "metadata": {
        "id": "mhNSJkug6Ej9"
      },
      "execution_count": null,
      "outputs": []
    },
    {
      "cell_type": "code",
      "source": [
        "p_table"
      ],
      "metadata": {
        "colab": {
          "base_uri": "https://localhost:8080/",
          "height": 583
        },
        "id": "Dxwc8tn46XV7",
        "outputId": "34424fcc-5e82-4bb1-e3f1-e00b78a9c358"
      },
      "execution_count": null,
      "outputs": [
        {
          "output_type": "execute_result",
          "data": {
            "text/plain": [
              "                           difference\n",
              "f/b   r/l   orig_ln color            \n",
              "back  left  120     blue           32\n",
              "                    white          11\n",
              "            150     blue           19\n",
              "                    white          13\n",
              "      right 120     blue           36\n",
              "                    white          18\n",
              "            150     blue           52\n",
              "                    white          18\n",
              "front left  120     blue           18\n",
              "                    white          17\n",
              "            150     blue           61\n",
              "                    white           8\n",
              "      right 120     blue           48\n",
              "                    white          14\n",
              "            150     blue           15\n",
              "                    white          16"
            ],
            "text/html": [
              "\n",
              "  <div id=\"df-0f4aa32e-ab86-43db-83ac-6e9d5f8e0ecd\">\n",
              "    <div class=\"colab-df-container\">\n",
              "      <div>\n",
              "<style scoped>\n",
              "    .dataframe tbody tr th:only-of-type {\n",
              "        vertical-align: middle;\n",
              "    }\n",
              "\n",
              "    .dataframe tbody tr th {\n",
              "        vertical-align: top;\n",
              "    }\n",
              "\n",
              "    .dataframe thead th {\n",
              "        text-align: right;\n",
              "    }\n",
              "</style>\n",
              "<table border=\"1\" class=\"dataframe\">\n",
              "  <thead>\n",
              "    <tr style=\"text-align: right;\">\n",
              "      <th></th>\n",
              "      <th></th>\n",
              "      <th></th>\n",
              "      <th></th>\n",
              "      <th>difference</th>\n",
              "    </tr>\n",
              "    <tr>\n",
              "      <th>f/b</th>\n",
              "      <th>r/l</th>\n",
              "      <th>orig_ln</th>\n",
              "      <th>color</th>\n",
              "      <th></th>\n",
              "    </tr>\n",
              "  </thead>\n",
              "  <tbody>\n",
              "    <tr>\n",
              "      <th rowspan=\"8\" valign=\"top\">back</th>\n",
              "      <th rowspan=\"4\" valign=\"top\">left</th>\n",
              "      <th rowspan=\"2\" valign=\"top\">120</th>\n",
              "      <th>blue</th>\n",
              "      <td>32</td>\n",
              "    </tr>\n",
              "    <tr>\n",
              "      <th>white</th>\n",
              "      <td>11</td>\n",
              "    </tr>\n",
              "    <tr>\n",
              "      <th rowspan=\"2\" valign=\"top\">150</th>\n",
              "      <th>blue</th>\n",
              "      <td>19</td>\n",
              "    </tr>\n",
              "    <tr>\n",
              "      <th>white</th>\n",
              "      <td>13</td>\n",
              "    </tr>\n",
              "    <tr>\n",
              "      <th rowspan=\"4\" valign=\"top\">right</th>\n",
              "      <th rowspan=\"2\" valign=\"top\">120</th>\n",
              "      <th>blue</th>\n",
              "      <td>36</td>\n",
              "    </tr>\n",
              "    <tr>\n",
              "      <th>white</th>\n",
              "      <td>18</td>\n",
              "    </tr>\n",
              "    <tr>\n",
              "      <th rowspan=\"2\" valign=\"top\">150</th>\n",
              "      <th>blue</th>\n",
              "      <td>52</td>\n",
              "    </tr>\n",
              "    <tr>\n",
              "      <th>white</th>\n",
              "      <td>18</td>\n",
              "    </tr>\n",
              "    <tr>\n",
              "      <th rowspan=\"8\" valign=\"top\">front</th>\n",
              "      <th rowspan=\"4\" valign=\"top\">left</th>\n",
              "      <th rowspan=\"2\" valign=\"top\">120</th>\n",
              "      <th>blue</th>\n",
              "      <td>18</td>\n",
              "    </tr>\n",
              "    <tr>\n",
              "      <th>white</th>\n",
              "      <td>17</td>\n",
              "    </tr>\n",
              "    <tr>\n",
              "      <th rowspan=\"2\" valign=\"top\">150</th>\n",
              "      <th>blue</th>\n",
              "      <td>61</td>\n",
              "    </tr>\n",
              "    <tr>\n",
              "      <th>white</th>\n",
              "      <td>8</td>\n",
              "    </tr>\n",
              "    <tr>\n",
              "      <th rowspan=\"4\" valign=\"top\">right</th>\n",
              "      <th rowspan=\"2\" valign=\"top\">120</th>\n",
              "      <th>blue</th>\n",
              "      <td>48</td>\n",
              "    </tr>\n",
              "    <tr>\n",
              "      <th>white</th>\n",
              "      <td>14</td>\n",
              "    </tr>\n",
              "    <tr>\n",
              "      <th rowspan=\"2\" valign=\"top\">150</th>\n",
              "      <th>blue</th>\n",
              "      <td>15</td>\n",
              "    </tr>\n",
              "    <tr>\n",
              "      <th>white</th>\n",
              "      <td>16</td>\n",
              "    </tr>\n",
              "  </tbody>\n",
              "</table>\n",
              "</div>\n",
              "      <button class=\"colab-df-convert\" onclick=\"convertToInteractive('df-0f4aa32e-ab86-43db-83ac-6e9d5f8e0ecd')\"\n",
              "              title=\"Convert this dataframe to an interactive table.\"\n",
              "              style=\"display:none;\">\n",
              "        \n",
              "  <svg xmlns=\"http://www.w3.org/2000/svg\" height=\"24px\"viewBox=\"0 0 24 24\"\n",
              "       width=\"24px\">\n",
              "    <path d=\"M0 0h24v24H0V0z\" fill=\"none\"/>\n",
              "    <path d=\"M18.56 5.44l.94 2.06.94-2.06 2.06-.94-2.06-.94-.94-2.06-.94 2.06-2.06.94zm-11 1L8.5 8.5l.94-2.06 2.06-.94-2.06-.94L8.5 2.5l-.94 2.06-2.06.94zm10 10l.94 2.06.94-2.06 2.06-.94-2.06-.94-.94-2.06-.94 2.06-2.06.94z\"/><path d=\"M17.41 7.96l-1.37-1.37c-.4-.4-.92-.59-1.43-.59-.52 0-1.04.2-1.43.59L10.3 9.45l-7.72 7.72c-.78.78-.78 2.05 0 2.83L4 21.41c.39.39.9.59 1.41.59.51 0 1.02-.2 1.41-.59l7.78-7.78 2.81-2.81c.8-.78.8-2.07 0-2.86zM5.41 20L4 18.59l7.72-7.72 1.47 1.35L5.41 20z\"/>\n",
              "  </svg>\n",
              "      </button>\n",
              "      \n",
              "  <style>\n",
              "    .colab-df-container {\n",
              "      display:flex;\n",
              "      flex-wrap:wrap;\n",
              "      gap: 12px;\n",
              "    }\n",
              "\n",
              "    .colab-df-convert {\n",
              "      background-color: #E8F0FE;\n",
              "      border: none;\n",
              "      border-radius: 50%;\n",
              "      cursor: pointer;\n",
              "      display: none;\n",
              "      fill: #1967D2;\n",
              "      height: 32px;\n",
              "      padding: 0 0 0 0;\n",
              "      width: 32px;\n",
              "    }\n",
              "\n",
              "    .colab-df-convert:hover {\n",
              "      background-color: #E2EBFA;\n",
              "      box-shadow: 0px 1px 2px rgba(60, 64, 67, 0.3), 0px 1px 3px 1px rgba(60, 64, 67, 0.15);\n",
              "      fill: #174EA6;\n",
              "    }\n",
              "\n",
              "    [theme=dark] .colab-df-convert {\n",
              "      background-color: #3B4455;\n",
              "      fill: #D2E3FC;\n",
              "    }\n",
              "\n",
              "    [theme=dark] .colab-df-convert:hover {\n",
              "      background-color: #434B5C;\n",
              "      box-shadow: 0px 1px 3px 1px rgba(0, 0, 0, 0.15);\n",
              "      filter: drop-shadow(0px 1px 2px rgba(0, 0, 0, 0.3));\n",
              "      fill: #FFFFFF;\n",
              "    }\n",
              "  </style>\n",
              "\n",
              "      <script>\n",
              "        const buttonEl =\n",
              "          document.querySelector('#df-0f4aa32e-ab86-43db-83ac-6e9d5f8e0ecd button.colab-df-convert');\n",
              "        buttonEl.style.display =\n",
              "          google.colab.kernel.accessAllowed ? 'block' : 'none';\n",
              "\n",
              "        async function convertToInteractive(key) {\n",
              "          const element = document.querySelector('#df-0f4aa32e-ab86-43db-83ac-6e9d5f8e0ecd');\n",
              "          const dataTable =\n",
              "            await google.colab.kernel.invokeFunction('convertToInteractive',\n",
              "                                                     [key], {});\n",
              "          if (!dataTable) return;\n",
              "\n",
              "          const docLinkHtml = 'Like what you see? Visit the ' +\n",
              "            '<a target=\"_blank\" href=https://colab.research.google.com/notebooks/data_table.ipynb>data table notebook</a>'\n",
              "            + ' to learn more about interactive tables.';\n",
              "          element.innerHTML = '';\n",
              "          dataTable['output_type'] = 'display_data';\n",
              "          await google.colab.output.renderOutput(dataTable, element);\n",
              "          const docLink = document.createElement('div');\n",
              "          docLink.innerHTML = docLinkHtml;\n",
              "          element.appendChild(docLink);\n",
              "        }\n",
              "      </script>\n",
              "    </div>\n",
              "  </div>\n",
              "  "
            ]
          },
          "metadata": {},
          "execution_count": 11
        }
      ]
    },
    {
      "cell_type": "code",
      "source": [
        "df1 = df[['color', 'orig_ln','difference','f/b','r/l','cloth']]"
      ],
      "metadata": {
        "id": "tG05AyEUFFKo"
      },
      "execution_count": null,
      "outputs": []
    },
    {
      "cell_type": "code",
      "source": [
        "df1"
      ],
      "metadata": {
        "colab": {
          "base_uri": "https://localhost:8080/",
          "height": 551
        },
        "id": "2JDLERhAFZow",
        "outputId": "4ce203bc-9f52-4be2-93c4-7d5536367786"
      },
      "execution_count": null,
      "outputs": [
        {
          "output_type": "execute_result",
          "data": {
            "text/plain": [
              "    color  orig_ln  difference    f/b    r/l   cloth\n",
              "0   white      150           8  front   left  yed_21\n",
              "1   white      120          17  front   left  yed_21\n",
              "2    blue      120          18  front   left  yed_21\n",
              "3    blue      150          61  front   left  yed_21\n",
              "4   white      120          14  front  right  yed_21\n",
              "5    blue      150          15  front  right  yed_21\n",
              "6    blue      120          48  front  right  yed_21\n",
              "7   white      150          16  front  right  yed_21\n",
              "8   white      150          13   back   left  yed_21\n",
              "9   white      120          11   back   left  yed_21\n",
              "10   blue      150          19   back   left  yed_21\n",
              "11   blue      120          32   back   left  yed_21\n",
              "12   blue      150          52   back  right  yed_21\n",
              "13  white      150          18   back  right  yed_21\n",
              "14  white      120          18   back  right  yed_21\n",
              "15   blue      120          36   back  right  yed_21"
            ],
            "text/html": [
              "\n",
              "  <div id=\"df-4a8bbaff-3bcf-45e4-b88e-1fcd35a5b40e\">\n",
              "    <div class=\"colab-df-container\">\n",
              "      <div>\n",
              "<style scoped>\n",
              "    .dataframe tbody tr th:only-of-type {\n",
              "        vertical-align: middle;\n",
              "    }\n",
              "\n",
              "    .dataframe tbody tr th {\n",
              "        vertical-align: top;\n",
              "    }\n",
              "\n",
              "    .dataframe thead th {\n",
              "        text-align: right;\n",
              "    }\n",
              "</style>\n",
              "<table border=\"1\" class=\"dataframe\">\n",
              "  <thead>\n",
              "    <tr style=\"text-align: right;\">\n",
              "      <th></th>\n",
              "      <th>color</th>\n",
              "      <th>orig_ln</th>\n",
              "      <th>difference</th>\n",
              "      <th>f/b</th>\n",
              "      <th>r/l</th>\n",
              "      <th>cloth</th>\n",
              "    </tr>\n",
              "  </thead>\n",
              "  <tbody>\n",
              "    <tr>\n",
              "      <th>0</th>\n",
              "      <td>white</td>\n",
              "      <td>150</td>\n",
              "      <td>8</td>\n",
              "      <td>front</td>\n",
              "      <td>left</td>\n",
              "      <td>yed_21</td>\n",
              "    </tr>\n",
              "    <tr>\n",
              "      <th>1</th>\n",
              "      <td>white</td>\n",
              "      <td>120</td>\n",
              "      <td>17</td>\n",
              "      <td>front</td>\n",
              "      <td>left</td>\n",
              "      <td>yed_21</td>\n",
              "    </tr>\n",
              "    <tr>\n",
              "      <th>2</th>\n",
              "      <td>blue</td>\n",
              "      <td>120</td>\n",
              "      <td>18</td>\n",
              "      <td>front</td>\n",
              "      <td>left</td>\n",
              "      <td>yed_21</td>\n",
              "    </tr>\n",
              "    <tr>\n",
              "      <th>3</th>\n",
              "      <td>blue</td>\n",
              "      <td>150</td>\n",
              "      <td>61</td>\n",
              "      <td>front</td>\n",
              "      <td>left</td>\n",
              "      <td>yed_21</td>\n",
              "    </tr>\n",
              "    <tr>\n",
              "      <th>4</th>\n",
              "      <td>white</td>\n",
              "      <td>120</td>\n",
              "      <td>14</td>\n",
              "      <td>front</td>\n",
              "      <td>right</td>\n",
              "      <td>yed_21</td>\n",
              "    </tr>\n",
              "    <tr>\n",
              "      <th>5</th>\n",
              "      <td>blue</td>\n",
              "      <td>150</td>\n",
              "      <td>15</td>\n",
              "      <td>front</td>\n",
              "      <td>right</td>\n",
              "      <td>yed_21</td>\n",
              "    </tr>\n",
              "    <tr>\n",
              "      <th>6</th>\n",
              "      <td>blue</td>\n",
              "      <td>120</td>\n",
              "      <td>48</td>\n",
              "      <td>front</td>\n",
              "      <td>right</td>\n",
              "      <td>yed_21</td>\n",
              "    </tr>\n",
              "    <tr>\n",
              "      <th>7</th>\n",
              "      <td>white</td>\n",
              "      <td>150</td>\n",
              "      <td>16</td>\n",
              "      <td>front</td>\n",
              "      <td>right</td>\n",
              "      <td>yed_21</td>\n",
              "    </tr>\n",
              "    <tr>\n",
              "      <th>8</th>\n",
              "      <td>white</td>\n",
              "      <td>150</td>\n",
              "      <td>13</td>\n",
              "      <td>back</td>\n",
              "      <td>left</td>\n",
              "      <td>yed_21</td>\n",
              "    </tr>\n",
              "    <tr>\n",
              "      <th>9</th>\n",
              "      <td>white</td>\n",
              "      <td>120</td>\n",
              "      <td>11</td>\n",
              "      <td>back</td>\n",
              "      <td>left</td>\n",
              "      <td>yed_21</td>\n",
              "    </tr>\n",
              "    <tr>\n",
              "      <th>10</th>\n",
              "      <td>blue</td>\n",
              "      <td>150</td>\n",
              "      <td>19</td>\n",
              "      <td>back</td>\n",
              "      <td>left</td>\n",
              "      <td>yed_21</td>\n",
              "    </tr>\n",
              "    <tr>\n",
              "      <th>11</th>\n",
              "      <td>blue</td>\n",
              "      <td>120</td>\n",
              "      <td>32</td>\n",
              "      <td>back</td>\n",
              "      <td>left</td>\n",
              "      <td>yed_21</td>\n",
              "    </tr>\n",
              "    <tr>\n",
              "      <th>12</th>\n",
              "      <td>blue</td>\n",
              "      <td>150</td>\n",
              "      <td>52</td>\n",
              "      <td>back</td>\n",
              "      <td>right</td>\n",
              "      <td>yed_21</td>\n",
              "    </tr>\n",
              "    <tr>\n",
              "      <th>13</th>\n",
              "      <td>white</td>\n",
              "      <td>150</td>\n",
              "      <td>18</td>\n",
              "      <td>back</td>\n",
              "      <td>right</td>\n",
              "      <td>yed_21</td>\n",
              "    </tr>\n",
              "    <tr>\n",
              "      <th>14</th>\n",
              "      <td>white</td>\n",
              "      <td>120</td>\n",
              "      <td>18</td>\n",
              "      <td>back</td>\n",
              "      <td>right</td>\n",
              "      <td>yed_21</td>\n",
              "    </tr>\n",
              "    <tr>\n",
              "      <th>15</th>\n",
              "      <td>blue</td>\n",
              "      <td>120</td>\n",
              "      <td>36</td>\n",
              "      <td>back</td>\n",
              "      <td>right</td>\n",
              "      <td>yed_21</td>\n",
              "    </tr>\n",
              "  </tbody>\n",
              "</table>\n",
              "</div>\n",
              "      <button class=\"colab-df-convert\" onclick=\"convertToInteractive('df-4a8bbaff-3bcf-45e4-b88e-1fcd35a5b40e')\"\n",
              "              title=\"Convert this dataframe to an interactive table.\"\n",
              "              style=\"display:none;\">\n",
              "        \n",
              "  <svg xmlns=\"http://www.w3.org/2000/svg\" height=\"24px\"viewBox=\"0 0 24 24\"\n",
              "       width=\"24px\">\n",
              "    <path d=\"M0 0h24v24H0V0z\" fill=\"none\"/>\n",
              "    <path d=\"M18.56 5.44l.94 2.06.94-2.06 2.06-.94-2.06-.94-.94-2.06-.94 2.06-2.06.94zm-11 1L8.5 8.5l.94-2.06 2.06-.94-2.06-.94L8.5 2.5l-.94 2.06-2.06.94zm10 10l.94 2.06.94-2.06 2.06-.94-2.06-.94-.94-2.06-.94 2.06-2.06.94z\"/><path d=\"M17.41 7.96l-1.37-1.37c-.4-.4-.92-.59-1.43-.59-.52 0-1.04.2-1.43.59L10.3 9.45l-7.72 7.72c-.78.78-.78 2.05 0 2.83L4 21.41c.39.39.9.59 1.41.59.51 0 1.02-.2 1.41-.59l7.78-7.78 2.81-2.81c.8-.78.8-2.07 0-2.86zM5.41 20L4 18.59l7.72-7.72 1.47 1.35L5.41 20z\"/>\n",
              "  </svg>\n",
              "      </button>\n",
              "      \n",
              "  <style>\n",
              "    .colab-df-container {\n",
              "      display:flex;\n",
              "      flex-wrap:wrap;\n",
              "      gap: 12px;\n",
              "    }\n",
              "\n",
              "    .colab-df-convert {\n",
              "      background-color: #E8F0FE;\n",
              "      border: none;\n",
              "      border-radius: 50%;\n",
              "      cursor: pointer;\n",
              "      display: none;\n",
              "      fill: #1967D2;\n",
              "      height: 32px;\n",
              "      padding: 0 0 0 0;\n",
              "      width: 32px;\n",
              "    }\n",
              "\n",
              "    .colab-df-convert:hover {\n",
              "      background-color: #E2EBFA;\n",
              "      box-shadow: 0px 1px 2px rgba(60, 64, 67, 0.3), 0px 1px 3px 1px rgba(60, 64, 67, 0.15);\n",
              "      fill: #174EA6;\n",
              "    }\n",
              "\n",
              "    [theme=dark] .colab-df-convert {\n",
              "      background-color: #3B4455;\n",
              "      fill: #D2E3FC;\n",
              "    }\n",
              "\n",
              "    [theme=dark] .colab-df-convert:hover {\n",
              "      background-color: #434B5C;\n",
              "      box-shadow: 0px 1px 3px 1px rgba(0, 0, 0, 0.15);\n",
              "      filter: drop-shadow(0px 1px 2px rgba(0, 0, 0, 0.3));\n",
              "      fill: #FFFFFF;\n",
              "    }\n",
              "  </style>\n",
              "\n",
              "      <script>\n",
              "        const buttonEl =\n",
              "          document.querySelector('#df-4a8bbaff-3bcf-45e4-b88e-1fcd35a5b40e button.colab-df-convert');\n",
              "        buttonEl.style.display =\n",
              "          google.colab.kernel.accessAllowed ? 'block' : 'none';\n",
              "\n",
              "        async function convertToInteractive(key) {\n",
              "          const element = document.querySelector('#df-4a8bbaff-3bcf-45e4-b88e-1fcd35a5b40e');\n",
              "          const dataTable =\n",
              "            await google.colab.kernel.invokeFunction('convertToInteractive',\n",
              "                                                     [key], {});\n",
              "          if (!dataTable) return;\n",
              "\n",
              "          const docLinkHtml = 'Like what you see? Visit the ' +\n",
              "            '<a target=\"_blank\" href=https://colab.research.google.com/notebooks/data_table.ipynb>data table notebook</a>'\n",
              "            + ' to learn more about interactive tables.';\n",
              "          element.innerHTML = '';\n",
              "          dataTable['output_type'] = 'display_data';\n",
              "          await google.colab.output.renderOutput(dataTable, element);\n",
              "          const docLink = document.createElement('div');\n",
              "          docLink.innerHTML = docLinkHtml;\n",
              "          element.appendChild(docLink);\n",
              "        }\n",
              "      </script>\n",
              "    </div>\n",
              "  </div>\n",
              "  "
            ]
          },
          "metadata": {},
          "execution_count": 13
        }
      ]
    },
    {
      "cell_type": "code",
      "source": [
        "group_blue = df1[df1['color']=='blue']\n",
        "group_white = df1[df1['color']=='white']"
      ],
      "metadata": {
        "id": "HaIVpxZqEnzu"
      },
      "execution_count": null,
      "outputs": []
    },
    {
      "cell_type": "code",
      "source": [
        "group_f = df1[df1['f/b']=='front']\n",
        "group_b = df1[df1['f/b']=='back']"
      ],
      "metadata": {
        "id": "1sqjx7uJFrmG"
      },
      "execution_count": null,
      "outputs": []
    },
    {
      "cell_type": "code",
      "source": [
        "group_r = df1[df1['r/l']=='right']\n",
        "group_l = df1[df1['r/l']=='left']"
      ],
      "metadata": {
        "id": "f7KfY05UF0I6"
      },
      "execution_count": null,
      "outputs": []
    },
    {
      "cell_type": "code",
      "source": [
        "group_150 = df1[df1['orig_ln']==150]\n",
        "group_120 = df1[df1['orig_ln']==120]"
      ],
      "metadata": {
        "id": "QJKbDJFsF7pn"
      },
      "execution_count": null,
      "outputs": []
    },
    {
      "cell_type": "code",
      "source": [
        "dif_color = ttest_rel(group_blue['difference'], group_white['difference'])"
      ],
      "metadata": {
        "id": "_XCrNzhbE8ab"
      },
      "execution_count": null,
      "outputs": []
    },
    {
      "cell_type": "code",
      "source": [
        "dif_position_fb = ttest_rel(group_f['difference'], group_b['difference'])"
      ],
      "metadata": {
        "id": "iiTg-MU2GKBa"
      },
      "execution_count": null,
      "outputs": []
    },
    {
      "cell_type": "code",
      "source": [
        "dif_position_rl = ttest_rel(group_r['difference'], group_l['difference'])"
      ],
      "metadata": {
        "id": "QdZGHpYQGNSy"
      },
      "execution_count": null,
      "outputs": []
    },
    {
      "cell_type": "code",
      "source": [
        "dif_len = ttest_rel(group_150['difference'], group_120['difference'])"
      ],
      "metadata": {
        "id": "wqg6D7roGQsp"
      },
      "execution_count": null,
      "outputs": []
    },
    {
      "cell_type": "code",
      "source": [
        "print('white',' ','blue',' ',dif_color)\n",
        "print('front',' ','back',' ',dif_position_fb)\n",
        "print('right',' ','left',' ',dif_position_rl)\n",
        "print('150',' ','120',' ',dif_len)"
      ],
      "metadata": {
        "colab": {
          "base_uri": "https://localhost:8080/"
        },
        "id": "TMyDpQw7TD71",
        "outputId": "6df107f0-60f1-424c-aa45-a34c4528d54c"
      },
      "execution_count": null,
      "outputs": [
        {
          "output_type": "stream",
          "name": "stdout",
          "text": [
            "white   blue   TtestResult(statistic=3.914522024707396, pvalue=0.00578966336216682, df=7)\n",
            "front   back   TtestResult(statistic=-0.03094287251686777, pvalue=0.9761788614811876, df=7)\n",
            "right   left   TtestResult(statistic=0.5376162432255781, pvalue=0.6075017336083551, df=7)\n",
            "150   120   TtestResult(statistic=0.1103354568734741, pvalue=0.9152400725029919, df=7)\n"
          ]
        }
      ]
    },
    {
      "cell_type": "markdown",
      "source": [
        "מ.ש.ל\n",
        "צבע החוט הוא המנבא באופן מובהק את סיכויו של החוט להיקרע, גם כאשר ה-N הוא נמוךץ\n",
        "אין בכוחם של מי מהמשתנים האחרים להסביר איזה חוט יקרע."
      ],
      "metadata": {
        "id": "ihC18-ku2lLY"
      }
    },
    {
      "cell_type": "code",
      "source": [
        "pivoted = df.pivot(index=['f/b', 'r/l','orig_ln'], columns=\"color\", values=\"difference\")"
      ],
      "metadata": {
        "id": "uVV7lBCXtyWT"
      },
      "execution_count": null,
      "outputs": []
    },
    {
      "cell_type": "code",
      "source": [
        "pivoted.insert(2, \"hefresh\",pivoted['blue']-pivoted['white'], True)"
      ],
      "metadata": {
        "id": "_kMYB_Orxi39"
      },
      "execution_count": null,
      "outputs": []
    },
    {
      "cell_type": "code",
      "source": [
        "pivoted.mean()"
      ],
      "metadata": {
        "colab": {
          "base_uri": "https://localhost:8080/"
        },
        "id": "lbjyqq4BuGby",
        "outputId": "bcb89d1a-d707-45d0-ce03-6bd8ccab8945"
      },
      "execution_count": null,
      "outputs": [
        {
          "output_type": "execute_result",
          "data": {
            "text/plain": [
              "color\n",
              "blue       35.125\n",
              "white      14.375\n",
              "hefresh    20.750\n",
              "dtype: float64"
            ]
          },
          "metadata": {},
          "execution_count": 25
        }
      ]
    },
    {
      "cell_type": "code",
      "source": [
        "pivoted.std()"
      ],
      "metadata": {
        "colab": {
          "base_uri": "https://localhost:8080/"
        },
        "id": "3sqLjafWydpF",
        "outputId": "f790aa38-2c01-4f16-b338-989f2d24a766"
      },
      "execution_count": null,
      "outputs": [
        {
          "output_type": "execute_result",
          "data": {
            "text/plain": [
              "color\n",
              "blue       17.274568\n",
              "white       3.583195\n",
              "hefresh    18.820581\n",
              "dtype: float64"
            ]
          },
          "metadata": {},
          "execution_count": 26
        }
      ]
    },
    {
      "cell_type": "code",
      "source": [
        "pivoted1 = df.pivot(index=['f/b', 'r/l','orig_ln'], columns=\"color\", values=\"pres_ln\")"
      ],
      "metadata": {
        "id": "bjEJxgZluMe-"
      },
      "execution_count": null,
      "outputs": []
    },
    {
      "cell_type": "code",
      "source": [
        "pivoted1"
      ],
      "metadata": {
        "colab": {
          "base_uri": "https://localhost:8080/",
          "height": 332
        },
        "id": "67crEPhwuR9G",
        "outputId": "7cad22c8-53b6-4b9f-f3ea-6242b6ade45d"
      },
      "execution_count": null,
      "outputs": [
        {
          "output_type": "execute_result",
          "data": {
            "text/plain": [
              "color                blue  white\n",
              "f/b   r/l   orig_ln             \n",
              "back  left  120        88    109\n",
              "            150       131    137\n",
              "      right 120        84    102\n",
              "            150        98    132\n",
              "front left  120       102    103\n",
              "            150        89    142\n",
              "      right 120        72    106\n",
              "            150       135    134"
            ],
            "text/html": [
              "\n",
              "  <div id=\"df-43c1eebb-b914-447e-bfe3-53c941103e7b\">\n",
              "    <div class=\"colab-df-container\">\n",
              "      <div>\n",
              "<style scoped>\n",
              "    .dataframe tbody tr th:only-of-type {\n",
              "        vertical-align: middle;\n",
              "    }\n",
              "\n",
              "    .dataframe tbody tr th {\n",
              "        vertical-align: top;\n",
              "    }\n",
              "\n",
              "    .dataframe thead th {\n",
              "        text-align: right;\n",
              "    }\n",
              "</style>\n",
              "<table border=\"1\" class=\"dataframe\">\n",
              "  <thead>\n",
              "    <tr style=\"text-align: right;\">\n",
              "      <th></th>\n",
              "      <th></th>\n",
              "      <th>color</th>\n",
              "      <th>blue</th>\n",
              "      <th>white</th>\n",
              "    </tr>\n",
              "    <tr>\n",
              "      <th>f/b</th>\n",
              "      <th>r/l</th>\n",
              "      <th>orig_ln</th>\n",
              "      <th></th>\n",
              "      <th></th>\n",
              "    </tr>\n",
              "  </thead>\n",
              "  <tbody>\n",
              "    <tr>\n",
              "      <th rowspan=\"4\" valign=\"top\">back</th>\n",
              "      <th rowspan=\"2\" valign=\"top\">left</th>\n",
              "      <th>120</th>\n",
              "      <td>88</td>\n",
              "      <td>109</td>\n",
              "    </tr>\n",
              "    <tr>\n",
              "      <th>150</th>\n",
              "      <td>131</td>\n",
              "      <td>137</td>\n",
              "    </tr>\n",
              "    <tr>\n",
              "      <th rowspan=\"2\" valign=\"top\">right</th>\n",
              "      <th>120</th>\n",
              "      <td>84</td>\n",
              "      <td>102</td>\n",
              "    </tr>\n",
              "    <tr>\n",
              "      <th>150</th>\n",
              "      <td>98</td>\n",
              "      <td>132</td>\n",
              "    </tr>\n",
              "    <tr>\n",
              "      <th rowspan=\"4\" valign=\"top\">front</th>\n",
              "      <th rowspan=\"2\" valign=\"top\">left</th>\n",
              "      <th>120</th>\n",
              "      <td>102</td>\n",
              "      <td>103</td>\n",
              "    </tr>\n",
              "    <tr>\n",
              "      <th>150</th>\n",
              "      <td>89</td>\n",
              "      <td>142</td>\n",
              "    </tr>\n",
              "    <tr>\n",
              "      <th rowspan=\"2\" valign=\"top\">right</th>\n",
              "      <th>120</th>\n",
              "      <td>72</td>\n",
              "      <td>106</td>\n",
              "    </tr>\n",
              "    <tr>\n",
              "      <th>150</th>\n",
              "      <td>135</td>\n",
              "      <td>134</td>\n",
              "    </tr>\n",
              "  </tbody>\n",
              "</table>\n",
              "</div>\n",
              "      <button class=\"colab-df-convert\" onclick=\"convertToInteractive('df-43c1eebb-b914-447e-bfe3-53c941103e7b')\"\n",
              "              title=\"Convert this dataframe to an interactive table.\"\n",
              "              style=\"display:none;\">\n",
              "        \n",
              "  <svg xmlns=\"http://www.w3.org/2000/svg\" height=\"24px\"viewBox=\"0 0 24 24\"\n",
              "       width=\"24px\">\n",
              "    <path d=\"M0 0h24v24H0V0z\" fill=\"none\"/>\n",
              "    <path d=\"M18.56 5.44l.94 2.06.94-2.06 2.06-.94-2.06-.94-.94-2.06-.94 2.06-2.06.94zm-11 1L8.5 8.5l.94-2.06 2.06-.94-2.06-.94L8.5 2.5l-.94 2.06-2.06.94zm10 10l.94 2.06.94-2.06 2.06-.94-2.06-.94-.94-2.06-.94 2.06-2.06.94z\"/><path d=\"M17.41 7.96l-1.37-1.37c-.4-.4-.92-.59-1.43-.59-.52 0-1.04.2-1.43.59L10.3 9.45l-7.72 7.72c-.78.78-.78 2.05 0 2.83L4 21.41c.39.39.9.59 1.41.59.51 0 1.02-.2 1.41-.59l7.78-7.78 2.81-2.81c.8-.78.8-2.07 0-2.86zM5.41 20L4 18.59l7.72-7.72 1.47 1.35L5.41 20z\"/>\n",
              "  </svg>\n",
              "      </button>\n",
              "      \n",
              "  <style>\n",
              "    .colab-df-container {\n",
              "      display:flex;\n",
              "      flex-wrap:wrap;\n",
              "      gap: 12px;\n",
              "    }\n",
              "\n",
              "    .colab-df-convert {\n",
              "      background-color: #E8F0FE;\n",
              "      border: none;\n",
              "      border-radius: 50%;\n",
              "      cursor: pointer;\n",
              "      display: none;\n",
              "      fill: #1967D2;\n",
              "      height: 32px;\n",
              "      padding: 0 0 0 0;\n",
              "      width: 32px;\n",
              "    }\n",
              "\n",
              "    .colab-df-convert:hover {\n",
              "      background-color: #E2EBFA;\n",
              "      box-shadow: 0px 1px 2px rgba(60, 64, 67, 0.3), 0px 1px 3px 1px rgba(60, 64, 67, 0.15);\n",
              "      fill: #174EA6;\n",
              "    }\n",
              "\n",
              "    [theme=dark] .colab-df-convert {\n",
              "      background-color: #3B4455;\n",
              "      fill: #D2E3FC;\n",
              "    }\n",
              "\n",
              "    [theme=dark] .colab-df-convert:hover {\n",
              "      background-color: #434B5C;\n",
              "      box-shadow: 0px 1px 3px 1px rgba(0, 0, 0, 0.15);\n",
              "      filter: drop-shadow(0px 1px 2px rgba(0, 0, 0, 0.3));\n",
              "      fill: #FFFFFF;\n",
              "    }\n",
              "  </style>\n",
              "\n",
              "      <script>\n",
              "        const buttonEl =\n",
              "          document.querySelector('#df-43c1eebb-b914-447e-bfe3-53c941103e7b button.colab-df-convert');\n",
              "        buttonEl.style.display =\n",
              "          google.colab.kernel.accessAllowed ? 'block' : 'none';\n",
              "\n",
              "        async function convertToInteractive(key) {\n",
              "          const element = document.querySelector('#df-43c1eebb-b914-447e-bfe3-53c941103e7b');\n",
              "          const dataTable =\n",
              "            await google.colab.kernel.invokeFunction('convertToInteractive',\n",
              "                                                     [key], {});\n",
              "          if (!dataTable) return;\n",
              "\n",
              "          const docLinkHtml = 'Like what you see? Visit the ' +\n",
              "            '<a target=\"_blank\" href=https://colab.research.google.com/notebooks/data_table.ipynb>data table notebook</a>'\n",
              "            + ' to learn more about interactive tables.';\n",
              "          element.innerHTML = '';\n",
              "          dataTable['output_type'] = 'display_data';\n",
              "          await google.colab.output.renderOutput(dataTable, element);\n",
              "          const docLink = document.createElement('div');\n",
              "          docLink.innerHTML = docLinkHtml;\n",
              "          element.appendChild(docLink);\n",
              "        }\n",
              "      </script>\n",
              "    </div>\n",
              "  </div>\n",
              "  "
            ]
          },
          "metadata": {},
          "execution_count": 28
        }
      ]
    },
    {
      "cell_type": "code",
      "source": [
        "pivoted.plot.bar(y=['blue','white'])"
      ],
      "metadata": {
        "colab": {
          "base_uri": "https://localhost:8080/",
          "height": 573
        },
        "id": "bYcqDzKJxKcG",
        "outputId": "142bd7a4-c6df-4dec-8094-5c5b1e888a5d"
      },
      "execution_count": null,
      "outputs": [
        {
          "output_type": "execute_result",
          "data": {
            "text/plain": [
              "<Axes: xlabel='f/b,r/l,orig_ln'>"
            ]
          },
          "metadata": {},
          "execution_count": 29
        },
        {
          "output_type": "display_data",
          "data": {
            "text/plain": [
              "<Figure size 640x480 with 1 Axes>"
            ],
            "image/png": "[encoded data removed]"
          },
          "metadata": {}
        }
      ]
    },
    {
      "cell_type": "code",
      "source": [
        "pivoted.plot.bar(y=['blue','white'],\n",
        "                 figsize=(10, 5),\n",
        "                 facecolor='gray',\n",
        "                 edgecolor='black',\n",
        "                 linewidth=1,\n",
        "                 color=['blue', 'white'])\n",
        "#thanks google bard"
      ],
      "metadata": {
        "colab": {
          "base_uri": "https://localhost:8080/",
          "height": 589
        },
        "id": "4YXx1cf14_KA",
        "outputId": "13397732-52ee-4b8a-a63f-61a117fa4d69"
      },
      "execution_count": null,
      "outputs": [
        {
          "output_type": "execute_result",
          "data": {
            "text/plain": [
              "<Axes: xlabel='f/b,r/l,orig_ln'>"
            ]
          },
          "metadata": {},
          "execution_count": 30
        },
        {
          "output_type": "display_data",
          "data": {
            "text/plain": [
              "<Figure size 1000x500 with 1 Axes>"
            ],
            "image/png": "[encoded data removed]"
          },
          "metadata": {}
        }
      ]
    },
    {
      "cell_type": "code",
      "source": [
        "ax = pivoted.plot.bar(y=['blue', 'white'], color=['blue', 'white'])\n",
        "ax.set_facecolor((0.8,0.8,0.8))\n",
        "fig = ax.get_figure()\n",
        "fig.patch.set_facecolor((0.9,0.9,0.9))\n",
        "ax.set_xlabel('')\n",
        "plt.show()\n",
        "#Thank you chatGPT!"
      ],
      "metadata": {
        "colab": {
          "base_uri": "https://localhost:8080/",
          "height": 537
        },
        "id": "e7Nw1rp39W7-",
        "outputId": "6ff6359b-7ec2-4c32-9058-072da8b7c69f"
      },
      "execution_count": null,
      "outputs": [
        {
          "output_type": "display_data",
          "data": {
            "text/plain": [
              "<Figure size 640x480 with 1 Axes>"
            ],
            "image/png": "[encoded data removed]"
          },
          "metadata": {}
        }
      ]
    },
    {
      "cell_type": "code",
      "source": [
        "pivoted1.plot.bar()"
      ],
      "metadata": {
        "colab": {
          "base_uri": "https://localhost:8080/",
          "height": 573
        },
        "id": "W88WLHqIumeG",
        "outputId": "114c56c6-ec63-4c3a-a1dc-cfc20bf6ab0c"
      },
      "execution_count": null,
      "outputs": [
        {
          "output_type": "execute_result",
          "data": {
            "text/plain": [
              "<Axes: xlabel='f/b,r/l,orig_ln'>"
            ]
          },
          "metadata": {},
          "execution_count": 32
        },
        {
          "output_type": "display_data",
          "data": {
            "text/plain": [
              "<Figure size 640x480 with 1 Axes>"
            ],
            "image/png": "[encoded data removed]"
          },
          "metadata": {}
        }
      ]
    },
    {
      "cell_type": "code",
      "source": [
        "ax1 = pivoted1.plot.bar(y=['blue', 'white'], color=['blue', 'white'])\n",
        "ax1.set_facecolor((0.8,0.8,0.8))\n",
        "fig1 = ax1.get_figure()\n",
        "fig1.patch.set_facecolor((0.9,0.9,0.9))\n",
        "ax1.set_xlabel('')\n",
        "ax1.legend(loc='upper right')\n",
        "plt.show()"
      ],
      "metadata": {
        "colab": {
          "base_uri": "https://localhost:8080/",
          "height": 537
        },
        "id": "7PMCEXECCwcy",
        "outputId": "0c397c7f-e11b-4b79-86ed-e45c8028700b"
      },
      "execution_count": null,
      "outputs": [
        {
          "output_type": "display_data",
          "data": {
            "text/plain": [
              "<Figure size 640x480 with 1 Axes>"
            ],
            "image/png": "[encoded data removed]"
          },
          "metadata": {}
        }
      ]
    },
    {
      "cell_type": "markdown",
      "source": [
        "אין כמו מראה עיניים.\n",
        "ברוך סטרמן - לטיפולך"
      ],
      "metadata": {
        "id": "uS4v5b-e3hi0"
      }
    }
  ]
}